{
 "cells": [
  {
   "cell_type": "code",
   "execution_count": null,
   "id": "49ab3b11",
   "metadata": {},
   "outputs": [],
   "source": [
    "import tensorflow as tf\n",
    "import numpy as np\n",
    "from tensorflow.keras import layers\n",
    "from tensorflow.keras.datasets import mnist\n",
    "from tensorflow.keras.utils import to_categorical\n",
    "\n",
    "mnist = mnist\n",
    "\n",
    "(train_images, train_labels), (test_images, test_labels) = mnist.load_data()\n",
    "\n",
    "train_images = train_images.reshape((60000, 28, 28, 1))\n",
    "test_images = test_images.reshape((10000, 28, 28, 1))\n",
    "\n",
    "train_labels = to_categorical(train_labels, 10)\n",
    "test_labels = to_categorical(test_labels, 10)\n",
    "\n",
    "# Normalize the pixels in 0.0~1.0 float\n",
    "train_images, test_images = train_images / 255.0, test_images / 255.0\n",
    "\n",
    "print(train_images.shape)\n",
    "print(train_labels.shape)"
   ]
  },
  {
   "cell_type": "code",
   "execution_count": null,
   "id": "c1dc8f34",
   "metadata": {},
   "outputs": [],
   "source": [
    "# Define a model\n",
    "class mnist_lenet(tf.keras.Model):\n",
    "    def __init__(self):\n",
    "        super(mnist_lenet, self).__init__()\n",
    "        self.conv1 = layers.Conv2D(filters=10, kernel_size=[3,3], input_shape = (28,28,1), activation= 'relu')\n",
    "        self.pool1 = layers.MaxPooling2D(2, 2)\n",
    "        self.conv2 = layers.Conv2D(filters=20, kernel_size=[3,3], activation= 'relu')\n",
    "        self.pool2 = layers.MaxPooling2D(2, 2)\n",
    "        self.conv3 = layers.Conv2D(filters=30, kernel_size=[3,3], activation= 'relu')\n",
    "        self.flat = layers.Flatten()\n",
    "        self.dense1 = layers.Dense(64, activation='relu')\n",
    "        self.dense2 = layers.Dense(10, activation='softmax')\n",
    "\n",
    "\n",
    "    def call(self, x):\n",
    "        net = self.conv1(x)\n",
    "        net = self.pool1(net)\n",
    "        net = self.conv2(net)\n",
    "        net = self.pool2(net)\n",
    "        net = self.conv3(net)\n",
    "        net = self.flat(net)\n",
    "        net = self.dense1(net)\n",
    "        net = self.dense2(net)\n",
    "        return net"
   ]
  },
  {
   "cell_type": "code",
   "execution_count": null,
   "id": "bef7a74d",
   "metadata": {},
   "outputs": [],
   "source": [
    "# Train & save model in frozen(.pb) format.\n",
    "\n",
    "my_model = mnist_lenet()\n",
    "my_model.compile(loss='categorical_crossentropy', optimizer='adam', metrics=['accuracy'])\n",
    "my_model.fit(train_images, train_labels, batch_size=1, epochs=5, verbose=1)\n",
    "my_model.summary()\n",
    "my_model.save('mnist_lenet')"
   ]
  },
  {
   "cell_type": "code",
   "execution_count": null,
   "id": "0787c567",
   "metadata": {},
   "outputs": [],
   "source": [
    "# Load model and convert it for TensorFlow Lite (.tflite format)\n",
    "\n",
    "import tensorflow as tf\n",
    "import numpy as np\n",
    "\n",
    "model_path = '/Users/{USER}/mnist_lenet/'\n",
    "converter = tf.lite.TFLiteConverter.from_saved_model(model_path)\n",
    "tflite_model = converter.convert()\n"
   ]
  },
  {
   "cell_type": "code",
   "execution_count": null,
   "id": "a0c14fa6",
   "metadata": {},
   "outputs": [],
   "source": [
    "import pathlib\n",
    "\n",
    "# Create folder to save model.\n",
    "tflite_models_dir = pathlib.Path(\"/tmp/mnist_lenet/\")\n",
    "tflite_models_dir.mkdir(exist_ok=True, parents=True)\n",
    "\n",
    "# Save the unquantized/float model:\n",
    "tflite_model_file = tflite_models_dir/\"mnist_lenet.tflite\"\n",
    "tflite_model_file.write_bytes(tflite_model)"
   ]
  },
  {
   "cell_type": "code",
   "execution_count": null,
   "id": "72ab3028",
   "metadata": {
    "scrolled": true
   },
   "outputs": [],
   "source": [
    "# For Edge TPU.\n",
    "# You must quntize your model in INT8 precision.\n",
    "\n",
    "# Get representative data set for post-quantization.\n",
    "# The representative data set prevents accuracy drop while quantization.\n",
    "def representative_data_gen():\n",
    "    for image in train_images[:1000]:  # Use a subset of the dataset\n",
    "        # Resize the image to the input shape of your model\n",
    "        image = tf.image.resize(image, (28, 28))\n",
    "        image = np.expand_dims(image, axis=0)\n",
    "        yield [image]\n",
    "\n",
    "model_path = '/Users/{USER}/mnist_lenet/'\n",
    "converter = tf.lite.TFLiteConverter.from_saved_model(model_path)\n",
    "converter.optimizations = [tf.lite.Optimize.DEFAULT]\n",
    "converter.representative_dataset = representative_data_gen\n",
    "converter.target_spec.supported_ops = [tf.lite.OpsSet.TFLITE_BUILTINS_INT8]\n",
    "converter.inference_input_type = tf.int8  # or tf.uint8\n",
    "converter.inference_output_type = tf.int8  # or tf.uint8\n",
    "tflite_model = converter.convert()"
   ]
  },
  {
   "cell_type": "code",
   "execution_count": null,
   "id": "e897f149",
   "metadata": {},
   "outputs": [],
   "source": [
    "import pathlib\n",
    "\n",
    "# Create folder to save model.\n",
    "tflite_models_dir = pathlib.Path(\"/tmp/mnist_lenet/\")\n",
    "tflite_models_dir.mkdir(exist_ok=True, parents=True)\n",
    "\n",
    "# Save the unquantized/float model:\n",
    "tflite_model_file = tflite_models_dir/\"mnist_lenet_quant.tflite\"\n",
    "tflite_model_file.write_bytes(tflite_model)\n",
    "\n",
    "# Now, you can convert your quzntized model for Edge TPU with edgetpu_compiler.\n",
    "# follow https://coral.ai/docs/edgetpu/compiler/#download"
   ]
  },
  {
   "cell_type": "code",
   "execution_count": null,
   "id": "f1e9b137",
   "metadata": {},
   "outputs": [],
   "source": []
  }
 ],
 "metadata": {
  "kernelspec": {
   "display_name": "Python 3 (ipykernel)",
   "language": "python",
   "name": "python3"
  },
  "language_info": {
   "codemirror_mode": {
    "name": "ipython",
    "version": 3
   },
   "file_extension": ".py",
   "mimetype": "text/x-python",
   "name": "python",
   "nbconvert_exporter": "python",
   "pygments_lexer": "ipython3",
   "version": "3.8.11"
  }
 },
 "nbformat": 4,
 "nbformat_minor": 5
}
